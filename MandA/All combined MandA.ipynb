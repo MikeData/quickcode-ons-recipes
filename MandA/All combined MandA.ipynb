{
 "cells": [
  {
   "cell_type": "code",
   "execution_count": 1,
   "metadata": {
    "collapsed": false
   },
   "outputs": [],
   "source": [
    "# get the paths to the code sorted out.  This is the wrong way to do it, and it needs sorting out as to the correct way\n",
    "# Might need pip install developer mode so that a symlink is made to the databakersolo source code from the git checkout\n",
    "# rather than it being copied deep into the site-packages directory tree\n",
    "import sys\n",
    "sys.path.insert(0, \"/home/goatchurch/sensiblecode/databaker\")\n",
    "sys.path.insert(0, \"/home/goatchurch/sensiblecode/xypath\")\n",
    "sys.path.insert(0, \"/home/goatchurch/sensiblecode/messytables\")\n",
    "sys.path.insert(0, \"/home/goatchurch/datalogging/anaconda3/lib/python3.5/site-packages/\")  # for xlrd\n",
    "sys.path.insert(0, \"/home/goatchurch/datalogging/anaconda3/lib/python3.5/site-packages/xlutils-2.0.0-py3.5.egg/\")  # for xlutils\n",
    "import databaker\n",
    "import databaker.constants\n",
    "from databaker.constants import *\n",
    "import xlutils\n",
    "import xypath\n",
    "import databaker.databakersolo as ds\n"
   ]
  },
  {
   "cell_type": "code",
   "execution_count": 13,
   "metadata": {
    "collapsed": false
   },
   "outputs": [
    {
     "name": "stdout",
     "output_type": "stream",
     "text": [
      "got header Investment: 392.734s,  743.910s total\n",
      "got header Investment: 0.020s,  743.930s total\n",
      "got header Investment: 0.018s,  743.948s total\n",
      "got header Investment: 0.017s,  743.965s total\n",
      "16\n",
      "['Table 1', 'Table 2', 'Table 3', 'Table 4', 'Table 5', 'Table 6', 'Table 6', 'Table 6', 'Table 6', 'Table 7', 'Table 7', 'Table 7', 'Table 7', 'Table 8', 'Table 9', 'Table 10']\n"
     ]
    }
   ],
   "source": [
    "tableset = xypath.loader.table_set(\"rftmatables_tcm77-415727.xls\", extension='xls')\n",
    "tabs = list(xypath.loader.get_sheets(tableset, \"*\"))   \n",
    "\n",
    "conversionsegments = [ ]\n",
    "for tab in tabs:\n",
    "    if tab.name == \"Table 1\":\n",
    "        anchor = tab.excel_ref('B3')\n",
    "        obs = anchor.shift(0, 5).fill(RIGHT).expand(DOWN).is_not_blank()\n",
    "\n",
    "        unwanted = tab.filter(contains_string ('indicates earliest revision')).expand(RIGHT).expand(DOWN)      \n",
    "        unwanted = unwanted | tab.excel_ref('V1').expand(RIGHT).expand(DOWN)\n",
    "        unwanted = unwanted | tab.filter(contains_string ('Number')).shift(RIGHT).fill(DOWN)\n",
    "        unwanted = unwanted | tab.filter(contains_string ('Value')).shift(RIGHT).fill(DOWN)\n",
    "        obs = obs - unwanted       \n",
    "\n",
    "        dimensions = [\n",
    "            (anchor.expand(DOWN).is_not_blank().is_not_bold(), TIME, DIRECTLY, LEFT),\n",
    "            (anchor.expand(RIGHT).parent().is_not_blank(), 'Companies', CLOSEST, LEFT),\n",
    "            (anchor.shift(0, 2).expand(RIGHT).parent().is_not_blank(), MEASURETYPE, CLOSEST, LEFT),\n",
    "            (anchor.shift(DOWN).expand(RIGHT).parent().is_not_blank(), 'Transaction', CLOSEST, LEFT),\n",
    "            (anchor.expand(DOWN).is_not_blank().is_bold(), 'TIMETYPE', CLOSEST, ABOVE)   \n",
    "        ]\n",
    "        conversionsegments.append((tab, dimensions, obs))\n",
    "        \n",
    "    elif tab.name in ['Table 2', 'Table 3', 'Table 4', 'Table 5']:\n",
    "        anchor = tab.excel_ref('B3')\n",
    "        obs = anchor.shift(0, 5).fill(RIGHT).expand(DOWN).is_not_blank()\n",
    "\n",
    "        unwanted = tab.filter(contains_string ('indicates earliest revision')).expand(RIGHT).expand(DOWN)      \n",
    "        unwanted = unwanted | tab.excel_ref('V1').expand(RIGHT).expand(DOWN)\n",
    "        unwanted = unwanted | tab.filter(contains_string ('Number')).shift(RIGHT).fill(DOWN)\n",
    "        unwanted = unwanted | tab.filter(contains_string ('Value')).shift(RIGHT).fill(DOWN)\n",
    "        obs = obs - unwanted       \n",
    "\n",
    "        inv1 = anchor.shift(DOWN).expand(RIGHT).parent().is_not_blank()\n",
    "        inv1 = inv1 | tab.excel_ref('B4')\n",
    "        inv1.dimension('Investment', CLOSEST, LEFT)\n",
    "\n",
    "        dimensions = [\n",
    "            (anchor.expand(DOWN).is_not_blank().is_not_bold(), TIME, DIRECTLY, LEFT),\n",
    "            (anchor.expand(RIGHT).parent().is_not_blank(), 'Category', CLOSEST, LEFT), \n",
    "            (inv1, 'Investment', CLOSEST, LEFT), \n",
    "            (anchor.shift(0, 2).expand(RIGHT).parent().is_not_blank(), MEASURETYPE, CLOSEST, LEFT), \n",
    "            (tab.excel_ref('C1'), 'Category', CLOSEST, ABOVE), \n",
    "            (anchor.shift(0, 2).expand(RIGHT).parent().is_not_blank(), \"Measure\", CLOSEST, LEFT)\n",
    "        ]\n",
    "        conversionsegments.append((tab, dimensions, obs))\n",
    "\n",
    "    elif tab.name in [\"Table 6\", \"Table 7\"]:\n",
    "        \n",
    "        my_dict = {\"6A_Top\": 'CBAQ', \"6A_Bottom\": 'HCL3', \"6D_Top\": 'CBAS', \"6D_Bottom\":'HCL5',\n",
    "                   \"7A_Top\": 'CBAU', \"7A_Bottom\": 'HCK7', \"7D_Top\": 'CBAW', \"7D_Bottom\":'HCK9'  }\n",
    "        for P1, corner in my_dict.items():\n",
    "            if P1[0] != tab.name[-1]:\n",
    "                continue\n",
    "    \n",
    "            anchor = tab.filter(contains_string(corner))\n",
    "            obs = anchor.shift(DOWN).expand(RIGHT).expand(DOWN).is_not_blank()\n",
    "\n",
    "            # Getting all the junk out of the file\n",
    "            unwanted = tab.excel_ref('AA1').expand(DOWN).expand(RIGHT)     \n",
    "            unwanted = unwanted | anchor.expand(DOWN).filter(contains_string ('Area Analysis')).expand(RIGHT).expand(DOWN)\n",
    "            unwanted = unwanted | tab.filter(contains_string ('indicates earliest revision')).expand(RIGHT).expand(DOWN)\n",
    "            unwanted = unwanted | anchor.expand(DOWN).filter(contains_string ('Number')).shift(UP).expand(RIGHT).expand(DOWN)\n",
    "            obs = obs - unwanted    \n",
    "            cat = tab.filter(contains_string(P1[0:2])).shift(RIGHT)\n",
    "            dimensions = [\n",
    "                (anchor.shift(0, -2).expand(RIGHT).is_not_blank(), \"Area\", CLOSEST, LEFT), \n",
    "                (anchor.shift(0, -1).expand(RIGHT).is_not_blank(), MEASURETYPE, DIRECTLY, ABOVE), \n",
    "                (anchor.shift(-1, 0).expand(DOWN).is_not_blank(), TIME, DIRECTLY, LEFT),\n",
    "                (cat, \"Mergers\", CLOSEST, ABOVE)\n",
    "            ]\n",
    "            conversionsegments.append((tab, dimensions, obs))\n",
    "\n",
    "    elif tab.name in [\"Table 8\", \"Table 10\"]:\n",
    "        anchor = tab.excel_ref('C3')\n",
    "        \n",
    "        obs = anchor.shift(0, 2).fill(DOWN).expand(RIGHT).is_not_blank()\n",
    "        obs = obs - tab.excel_ref('R1').expand(DOWN).expand(RIGHT)\n",
    "        obs = obs - tab.filter(contains_string ('indicates earliest revision')).expand(RIGHT).expand(DOWN)\n",
    "        measure_line = anchor.shift(DOWN).expand(RIGHT).is_not_blank()\n",
    "        obs = obs - measure_line.shift(RIGHT).expand(DOWN)\n",
    "        \n",
    "        dimensions = [\n",
    "            (anchor.expand(RIGHT).is_not_blank(), \"Category\", CLOSEST, LEFT), \n",
    "            (measure_line, MEASURETYPE, DIRECTLY, ABOVE), \n",
    "            (anchor.shift(LEFT).expand(DOWN).is_bold(), \"TIME - DELETEME\", CLOSEST, ABOVE), \n",
    "            (anchor.shift(LEFT).expand(DOWN).is_not_bold().is_not_blank(), TIME, DIRECTLY, LEFT)\n",
    "        ]\n",
    "        conversionsegments.append((tab, dimensions, obs))\n",
    "    \n",
    "    elif tab.name in [\"Table 9\"]:\n",
    "        anchor = tab.filter(contains_string ('Total')).assert_one()\n",
    "\n",
    "        dimensions = [ \n",
    "            (anchor.shift(0, -2).expand(RIGHT).is_not_blank(), \"Expenditure\", CLOSEST, LEFT), \n",
    "            (anchor.shift(0, -1).expand(RIGHT).is_not_blank(), \"Expenditure 1\", CLOSEST, LEFT),  # this is the one that wants to be left or right above\n",
    "            (anchor.expand(RIGHT).is_not_blank(), \"Expenditure 2\", CLOSEST, LEFT), \n",
    "            (anchor.shift(LEFT).expand(DOWN).is_not_blank(), TIME, DIRECTLY, LEFT), \n",
    "            (anchor.shift(LEFT).expand(DOWN).is_bold(), \"ExtraTime\", CLOSEST, ABOVE), \n",
    "        ]\n",
    "        # Get obs,and get rid of lots of crap    \n",
    "        obs = anchor.shift(0, 2).fill(DOWN).expand(RIGHT).is_not_blank()\n",
    "        obs = obs - tab.excel_ref(\"V1\").expand(DOWN).expand(RIGHT)\n",
    "        obs = obs - tab.filter(contains_string (\"earliest revision\")).expand(RIGHT).expand(DOWN)\n",
    "        obs = obs - anchor.expand(RIGHT).is_not_blank().shift(RIGHT).fill(DOWN)\n",
    "        conversionsegments.append((tab, dimensions, obs))\n",
    "\n",
    "            \n",
    "print(len(conversionsegments))\n",
    "print([c[0].name for c in conversionsegments])"
   ]
  },
  {
   "cell_type": "code",
   "execution_count": 25,
   "metadata": {
    "collapsed": false
   },
   "outputs": [
    {
     "data": {
      "text/html": [
       "<style>\n",
       "table.ex td, table.ex tr { border: none }\n",
       "td.exbold { font-weight: bold }\n",
       "td.exnumber { color: green }\n",
       "td.exdate { color: purple }\n",
       "td.exc0 { background-color: LightYellow }\n",
       "td.exc1 { background-color: LightGreen }\n",
       "td.exc2 { background-color: PaleTurquoise }\n",
       "td.exc3 { background-color: LightBlue }\n",
       "td.exc4 { background-color: SkyBlue }\n",
       "td.exc5 { background-color: Plum }\n",
       "td.exc6 { background-color: Gold }\n",
       "td.exc7 { background-color: Lime }\n",
       "td.exc8 { background-color: Coral }\n",
       "td.exc9 { background-color: BurlyWood }\n",
       "td.exc10 { background-color: CornflowerBlue }\n",
       "td.exc-2 { background-color: MistyRose }\n",
       "td.exc-9 { background-color: Lavender }\n",
       "td.exc-8 { background-color: Violet }\n",
       "td.exc-7 { background-color: LightGray }\n",
       "td.exc-6 { background-color: SeaGreen }\n",
       "td.exc-5 { background-color: DeepSkyBlue }\n",
       "td.exc-4 { background-color: Blue }\n",
       "td.exc-3 { background-color: LightGray }\n",
       "td.exc-1 { background-color: Tan }\n",
       "</style>\n",
       "\n"
      ],
      "text/plain": [
       "<IPython.core.display.HTML object>"
      ]
     },
     "metadata": {},
     "output_type": "display_data"
    },
    {
     "data": {
      "text/html": [
       "Table: <b>Table 9</b> <table class=\"ex\">\n",
       "<tr><td class=\"exc-9\">OBS</td><td class=\"exc0\">Expenditure</td><td class=\"exc1\">Expenditure 1</td><td class=\"exc2\">Expenditure 2</td><td class=\"exc3\">TIME</td><td class=\"exc4\">ExtraTime</td></tr></table>\n"
      ],
      "text/plain": [
       "<IPython.core.display.HTML object>"
      ]
     },
     "metadata": {},
     "output_type": "display_data"
    },
    {
     "data": {
      "text/html": [
       "<table class=\"ex\">\n",
       "<tr><td class=\"\"></td><td class=\"exbold exnumber\">9.0</td><td class=\"exbold\">Mergers and Acquisitions in the UK by other UK Companies: Category of Expenditure</td><td class=\"\"></td><td class=\"\"></td><td class=\"\"></td><td class=\"\"></td><td class=\"\"></td><td class=\"\"></td><td class=\"\"></td><td class=\"\"></td><td class=\"\"></td><td class=\"\"></td><td class=\"\"></td><td class=\"\"></td><td class=\"\"></td><td class=\"\"></td><td class=\"\"></td><td class=\"\"></td><td class=\"\"></td><td class=\"\"></td><td class=\"\"></td><td class=\"\"></td><td class=\"\"></td><td class=\"\"></td></tr>\n",
       "<tr><td class=\"\"></td><td class=\"\">£ million</td><td class=\"\"></td><td class=\"\"></td><td class=\"\"></td><td class=\"\"></td><td class=\"\"></td><td class=\"\"></td><td class=\"\"></td><td class=\"\"></td><td class=\"\"></td><td class=\"\"></td><td class=\"\"></td><td class=\"\"></td><td class=\"\"></td><td class=\"\"></td><td class=\"\"></td><td class=\"\"></td><td class=\"\"></td><td class=\"\"></td><td class=\"\"></td><td class=\"\"></td><td class=\"\"></td><td class=\"\"></td><td class=\"\"></td></tr>\n",
       "<tr><td class=\"\"></td><td class=\"\"></td><td class=\"exc0\">Expenditure</td><td class=\"\"></td><td class=\"\"></td><td class=\"\"></td><td class=\"\"></td><td class=\"\"></td><td class=\"\"></td><td class=\"\"></td><td class=\"\"></td><td class=\"\"></td><td class=\"\"></td><td class=\"\"></td><td class=\"\"></td><td class=\"exc0\">Percentage of Expenditure</td><td class=\"\"></td><td class=\"\"></td><td class=\"\"></td><td class=\"\"></td><td class=\"\"></td><td class=\"\"></td><td class=\"\"></td><td class=\"\"></td><td class=\"\"></td></tr>\n",
       "<tr><td class=\"\"></td><td class=\"\"></td><td class=\"\"></td><td class=\"\"></td><td class=\"exc1\">Cash</td><td class=\"\"></td><td class=\"\"></td><td class=\"\"></td><td class=\"\"></td><td class=\"\"></td><td class=\"\"></td><td class=\"\"></td><td class=\"\"></td><td class=\"\"></td><td class=\"\"></td><td class=\"\"></td><td class=\"\"></td><td class=\"\"></td><td class=\"\"></td><td class=\"\"></td><td class=\"\"></td><td class=\"\"></td><td class=\"\"></td><td class=\"\"></td><td class=\"\"></td></tr>\n",
       "<tr><td class=\"\"></td><td class=\"\"></td><td class=\"exc2\">Total</td><td class=\"\"></td><td class=\"exc2\">Independent Companies</td><td class=\"\"></td><td class=\"\"></td><td class=\"exc2\">Subsidiaries</td><td class=\"\"></td><td class=\"\"></td><td class=\"exc2\">Issues of Ordinary Shares²</td><td class=\"\"></td><td class=\"exc2\">Issues of Fixed Interest Securities²</td><td class=\"\"></td><td class=\"\"></td><td class=\"exc2\">Cash</td><td class=\"\"></td><td class=\"exc2\">Issues of Ordinary Shares</td><td class=\"\"></td><td class=\"exc2\">Issues of Fixed Interest Securities</td><td class=\"\"></td><td class=\"\"></td><td class=\"\"></td><td class=\"\"></td><td class=\"\"></td></tr>\n",
       "<tr><td class=\"\"></td><td class=\"\"></td><td class=\"\">    DUCM</td><td class=\"\"></td><td class=\"\">    DWVW</td><td class=\"\"></td><td class=\"\"></td><td class=\"\">    DWVX</td><td class=\"\"></td><td class=\"\"></td><td class=\"\">    AIHD</td><td class=\"\"></td><td class=\"\">    AIHE</td><td class=\"\"></td><td class=\"\"></td><td class=\"\">    DWVY</td><td class=\"\"></td><td class=\"\">    DWVZ</td><td class=\"\"></td><td class=\"\">    DWWA</td><td class=\"\"></td><td class=\"\"></td><td class=\"\"></td><td class=\"\"></td><td class=\"\"></td></tr>\n",
       "<tr><td class=\"\"></td><td class=\"exc4 exbold\">Annual</td><td class=\"\"></td><td class=\"\"></td><td class=\"\"></td><td class=\"\"></td><td class=\"\"></td><td class=\"\"></td><td class=\"\"></td><td class=\"\"></td><td class=\"\"></td><td class=\"\"></td><td class=\"\"></td><td class=\"\"></td><td class=\"\"></td><td class=\"\"></td><td class=\"\"></td><td class=\"\"></td><td class=\"\"></td><td class=\"\"></td><td class=\"\"></td><td class=\"\"></td><td class=\"\"></td><td class=\"\"></td><td class=\"\"></td></tr>\n",
       "<tr><td class=\"\"></td><td class=\"exc3 exdate exnumber\">2003.0</td><td class=\"exc-9 exnumber\">18679.0</td><td class=\"\"></td><td class=\"exc-9 exdate exnumber\">8956.0</td><td class=\"\"></td><td class=\"\"></td><td class=\"exc-9 exdate exnumber\">7183.0</td><td class=\"\"></td><td class=\"\"></td><td class=\"exc-9 exdate exnumber\">1667.0</td><td class=\"\"></td><td class=\"exc-9 exnumber\">873.0</td><td class=\"\"></td><td class=\"\"></td><td class=\"exc-9 exnumber\">86.0</td><td class=\"\"></td><td class=\"exc-9 exnumber\">9.0</td><td class=\"\"></td><td class=\"exc-9 exnumber\">5.0</td><td class=\"\"></td><td class=\"\"></td><td class=\"\"></td><td class=\"\"></td><td class=\"\"></td></tr>\n",
       "<tr><td class=\"\"></td><td class=\"exc3 exdate exnumber\">2004.0</td><td class=\"exc-9 exnumber\">31408.0</td><td class=\"\"></td><td class=\"exc-9 exnumber\">12080.0</td><td class=\"\"></td><td class=\"\"></td><td class=\"exc-9 exdate exnumber\">7822.0</td><td class=\"\"></td><td class=\"\"></td><td class=\"exc-9 exnumber\">10338.0</td><td class=\"\"></td><td class=\"exc-9 exdate exnumber\">1168.0</td><td class=\"\"></td><td class=\"\"></td><td class=\"exc-9 exnumber\">63.0</td><td class=\"\"></td><td class=\"exc-9 exnumber\">33.0</td><td class=\"\"></td><td class=\"exc-9 exnumber\">4.0</td><td class=\"\"></td><td class=\"\"></td><td class=\"\"></td><td class=\"\"></td><td class=\"\"> </td></tr>\n",
       "<tr><td class=\"\"></td><td class=\"exc3 exdate exnumber\">2005.0</td><td class=\"exc-9 exnumber\">25134.0</td><td class=\"\"></td><td class=\"exc-9 exnumber\">13425.0</td><td class=\"\"></td><td class=\"\"></td><td class=\"exc-9 exdate exnumber\">8510.0</td><td class=\"\"></td><td class=\"\"></td><td class=\"exc-9 exdate exnumber\">2768.0</td><td class=\"\"></td><td class=\"exc-9 exnumber\">431.0</td><td class=\"\"></td><td class=\"\"></td><td class=\"exc-9 exnumber\">87.0</td><td class=\"\"></td><td class=\"exc-9 exnumber\">11.0</td><td class=\"\"></td><td class=\"exc-9 exnumber\">2.0</td><td class=\"\"></td><td class=\"\"></td><td class=\"\"></td><td class=\"\"></td><td class=\"\"></td></tr>\n",
       "<tr><td class=\"\"></td><td class=\"exc3 exdate exnumber\">2006.0</td><td class=\"exc-9 exnumber\">28511.0</td><td class=\"\"></td><td class=\"exc-9\">..</td><td class=\"\"></td><td class=\"\"></td><td class=\"exc-9 exdate exnumber\">8131.0</td><td class=\"\"></td><td class=\"\"></td><td class=\"exc-9\">..</td><td class=\"\"></td><td class=\"exc-9 exnumber\">335.0</td><td class=\"\"></td><td class=\"\"></td><td class=\"exc-9\">..</td><td class=\"\"></td><td class=\"exc-9\">..</td><td class=\"\"></td><td class=\"exc-9 exnumber\">2.0</td><td class=\"\"></td><td class=\"\"></td><td class=\"\"></td><td class=\"\"></td><td class=\"\"></td></tr>\n",
       "<tr><td class=\"\"></td><td class=\"exc3 exdate exnumber\">2007.0</td><td class=\"exc-9 exnumber\">26778.0</td><td class=\"\"></td><td class=\"exc-9 exnumber\">13671.0</td><td class=\"\"></td><td class=\"\"></td><td class=\"exc-9 exdate exnumber\">6507.0</td><td class=\"\"></td><td class=\"\"></td><td class=\"exc-9 exdate exnumber\">4909.0</td><td class=\"\"></td><td class=\"exc-9 exdate exnumber\">1691.0</td><td class=\"\"></td><td class=\"\"></td><td class=\"exc-9 exnumber\">76.0</td><td class=\"\"></td><td class=\"exc-9 exnumber\">18.0</td><td class=\"\"></td><td class=\"exc-9 exnumber\">6.0</td><td class=\"\"></td><td class=\"\"></td><td class=\"\"></td><td class=\"\"></td><td class=\"\"></td></tr>\n",
       "<tr><td class=\"\"></td><td class=\"exc3 exdate exnumber\">2008.0</td><td class=\"exc-9 exnumber\">36469.0</td><td class=\"\"></td><td class=\"exc-9 exnumber\">31333.0</td><td class=\"\"></td><td class=\"\"></td><td class=\"exc-9 exdate exnumber\">2851.0</td><td class=\"\"></td><td class=\"\"></td><td class=\"exc-9 exdate exnumber\">1910.0</td><td class=\"\"></td><td class=\"exc-9 exnumber\">375.0</td><td class=\"\"></td><td class=\"\"></td><td class=\"exc-9 exnumber\">94.0</td><td class=\"\"></td><td class=\"exc-9 exnumber\">5.0</td><td class=\"\"></td><td class=\"exc-9 exnumber\">1.0</td><td class=\"\"></td><td class=\"\"></td><td class=\"\"></td><td class=\"\"></td><td class=\"\"></td></tr>\n",
       "<tr><td class=\"\"></td><td class=\"exc3 exdate exnumber\">2009.0</td><td class=\"exc-9 exnumber\">12195.0</td><td class=\"\"></td><td class=\"exc-9 exdate exnumber\">2937.0</td><td class=\"\"></td><td class=\"\"></td><td class=\"exc-9 exnumber\">709.0</td><td class=\"\"></td><td class=\"\"></td><td class=\"exc-9 exdate exnumber\">8435.0</td><td class=\"\"></td><td class=\"exc-9 exnumber\">114.0</td><td class=\"\"></td><td class=\"\"></td><td class=\"exc-9 exnumber\">30.0</td><td class=\"\"></td><td class=\"exc-9 exnumber\">69.0</td><td class=\"\"></td><td class=\"exc-9 exnumber\">1.0</td><td class=\"\"></td><td class=\"\"></td><td class=\"\"></td><td class=\"\"></td><td class=\"\"></td></tr>\n",
       "<tr><td class=\"\"></td><td class=\"exc3\">2010¹</td><td class=\"exc-9 exnumber\">12605.0</td><td class=\"\"></td><td class=\"exc-9 exdate exnumber\">6175.0</td><td class=\"\"></td><td class=\"\"></td><td class=\"exc-9 exdate exnumber\">4520.0</td><td class=\"\"></td><td class=\"\"></td><td class=\"exc-9 exdate exnumber\">1560.0</td><td class=\"\"></td><td class=\"exc-9 exnumber\">350.0</td><td class=\"\"></td><td class=\"\"></td><td class=\"exc-9 exnumber\">85.0</td><td class=\"\"></td><td class=\"exc-9 exnumber\">12.0</td><td class=\"\"></td><td class=\"exc-9 exnumber\">3.0</td><td class=\"\"></td><td class=\"\"></td><td class=\"\"></td><td class=\"\"></td><td class=\"\"></td></tr>\n",
       "<tr><td class=\"\"></td><td class=\"exc3 exdate exnumber\">2011.0</td><td class=\"exc-9 exdate exnumber\">8089.0</td><td class=\"\"></td><td class=\"exc-9 exdate exnumber\">4432.0</td><td class=\"\"></td><td class=\"\"></td><td class=\"exc-9 exdate exnumber\">2667.0</td><td class=\"\"></td><td class=\"\"></td><td class=\"exc-9 exnumber\">719.0</td><td class=\"\"></td><td class=\"exc-9 exnumber\">271.0</td><td class=\"\"></td><td class=\"\"></td><td class=\"exc-9 exnumber\">87.0</td><td class=\"\"></td><td class=\"exc-9 exnumber\">10.0</td><td class=\"\"></td><td class=\"exc-9 exnumber\">4.0</td><td class=\"\"></td><td class=\"\"></td><td class=\"\"></td><td class=\"\"></td><td class=\"\"></td></tr>\n",
       "<tr><td class=\"\"></td><td class=\"exc3 exdate exnumber\">2012.0</td><td class=\"exc-9 exdate exnumber\">3413.0</td><td class=\"\"></td><td class=\"exc-9 exdate exnumber\">1937.0</td><td class=\"\"></td><td class=\"\"></td><td class=\"exc-9 exnumber\">789.0</td><td class=\"\"></td><td class=\"\"></td><td class=\"exc-9 exnumber\">419.0</td><td class=\"\"></td><td class=\"exc-9 exnumber\">268.0</td><td class=\"\"></td><td class=\"\"></td><td class=\"exc-9 exnumber\">82.0</td><td class=\"\"></td><td class=\"exc-9 exnumber\">10.0</td><td class=\"\"></td><td class=\"exc-9 exnumber\">8.0</td><td class=\"\"></td><td class=\"\"></td><td class=\"\"></td><td class=\"\"></td><td class=\"\"></td></tr>\n",
       "<tr><td class=\"\"></td><td class=\"exc3 exdate exnumber\">2013.0</td><td class=\"exc-9 exdate exnumber\">7665.0</td><td class=\"\"></td><td class=\"exc-9 exdate exnumber\">3690.0</td><td class=\"\"></td><td class=\"\"></td><td class=\"exc-9 exdate exnumber\">3475.0</td><td class=\"\"></td><td class=\"\"></td><td class=\"exc-9 exnumber\">353.0</td><td class=\"\"></td><td class=\"exc-9 exnumber\">147.0</td><td class=\"\"></td><td class=\"\"></td><td class=\"exc-9 exnumber\">92.0</td><td class=\"\"></td><td class=\"exc-9 exnumber\">6.0</td><td class=\"\"></td><td class=\"exc-9 exnumber\">2.0</td><td class=\"\"></td><td class=\"\"></td><td class=\"\"></td><td class=\"\"></td><td class=\"\"></td></tr>\n",
       "<tr><td class=\"\"></td><td class=\"exc3 exdate exnumber\">2014.0</td><td class=\"exc-9 exdate exnumber\">8032.0</td><td class=\"\"></td><td class=\"exc-9 exdate exnumber\">3249.0</td><td class=\"\"></td><td class=\"\"></td><td class=\"exc-9 exdate exnumber\">1947.0</td><td class=\"\"></td><td class=\"\"></td><td class=\"exc-9 exdate exnumber\">2782.0</td><td class=\"\"></td><td class=\"exc-9 exnumber\">53.0</td><td class=\"\"></td><td class=\"\"></td><td class=\"exc-9 exnumber\">65.0</td><td class=\"\"></td><td class=\"exc-9 exnumber\">35.0</td><td class=\"\"></td><td class=\"exc-9\">_</td><td class=\"\"></td><td class=\"\"></td><td class=\"\"></td><td class=\"\"></td><td class=\"\"></td></tr>\n",
       "<tr><td class=\"\"></td><td class=\"\"></td><td class=\"\"></td><td class=\"\"></td><td class=\"\"></td><td class=\"\"></td><td class=\"\"></td><td class=\"\"></td><td class=\"\"></td><td class=\"\"></td><td class=\"\"></td><td class=\"\"></td><td class=\"\"></td><td class=\"\"></td><td class=\"\"></td><td class=\"\"></td><td class=\"\"></td><td class=\"\"></td><td class=\"\"></td><td class=\"\"></td><td class=\"\"></td><td class=\"\"></td><td class=\"\"></td><td class=\"\"></td><td class=\"\"></td></tr>\n",
       "<tr><td class=\"\"></td><td class=\"exc4 exbold\">Quarterly</td><td class=\"\"></td><td class=\"\"></td><td class=\"\"></td><td class=\"\"></td><td class=\"\"></td><td class=\"\"></td><td class=\"\"></td><td class=\"\"></td><td class=\"\"></td><td class=\"\"></td><td class=\"\"></td><td class=\"\"></td><td class=\"\"></td><td class=\"\"></td><td class=\"\"></td><td class=\"\"></td><td class=\"\"></td><td class=\"\"></td><td class=\"\"></td><td class=\"\"></td><td class=\"\"></td><td class=\"\"></td><td class=\"\"></td></tr>\n",
       "<tr><td class=\"\"></td><td class=\"exc3 exdate\">2009 Q2 </td><td class=\"exc-9 exnumber\">729.0</td><td class=\"\"></td><td class=\"exc-9 exnumber\">130.0</td><td class=\"\"></td><td class=\"\"></td><td class=\"exc-9 exnumber\">150.0</td><td class=\"\"></td><td class=\"\"></td><td class=\"exc-9 exnumber\">437.0</td><td class=\"\"></td><td class=\"exc-9 exnumber\">12.0</td><td class=\"\"></td><td class=\"\"></td><td class=\"exc-9 exnumber\">38.0</td><td class=\"\"></td><td class=\"exc-9 exnumber\">60.0</td><td class=\"\"></td><td class=\"exc-9 exnumber\">2.0</td><td class=\"\"></td><td class=\"\"></td><td class=\"\"></td><td class=\"\"></td><td class=\"\"></td></tr>\n",
       "<tr><td class=\"\"></td><td class=\"exc3 exdate\">2009 Q3 </td><td class=\"exc-9 exdate exnumber\">1886.0</td><td class=\"\"></td><td class=\"exc-9 exdate exnumber\">1409.0</td><td class=\"\"></td><td class=\"\"></td><td class=\"exc-9 exnumber\">214.0</td><td class=\"\"></td><td class=\"\"></td><td class=\"exc-9 exnumber\">254.0</td><td class=\"\"></td><td class=\"exc-9 exnumber\">9.0</td><td class=\"\"></td><td class=\"\"></td><td class=\"exc-9 exnumber\">87.0</td><td class=\"\"></td><td class=\"exc-9 exnumber\">13.0</td><td class=\"\"></td><td class=\"exc-9\">–</td><td class=\"\"></td><td class=\"\"></td><td class=\"\"></td><td class=\"\"></td><td class=\"\"></td></tr>\n",
       "<tr><td class=\"\"></td><td class=\"exc3 exdate\">2009 Q4 </td><td class=\"exc-9 exdate exnumber\">1374.0</td><td class=\"\"></td><td class=\"exc-9 exdate exnumber\">1066.0</td><td class=\"\"></td><td class=\"\"></td><td class=\"exc-9 exnumber\">217.0</td><td class=\"\"></td><td class=\"\"></td><td class=\"exc-9 exnumber\">45.0</td><td class=\"\"></td><td class=\"exc-9 exnumber\">46.0</td><td class=\"\"></td><td class=\"\"></td><td class=\"exc-9 exnumber\">94.0</td><td class=\"\"></td><td class=\"exc-9 exnumber\">3.0</td><td class=\"\"></td><td class=\"exc-9 exnumber\">3.0</td><td class=\"\"></td><td class=\"\"></td><td class=\"\"></td><td class=\"\"></td><td class=\"\"></td></tr>\n",
       "<tr><td class=\"\"></td><td class=\"exc3\">2010 Q1¹</td><td class=\"exc-9 exdate exnumber\">1361.0</td><td class=\"\"></td><td class=\"exc-9 exnumber\">765.0</td><td class=\"\"></td><td class=\"\"></td><td class=\"exc-9 exnumber\">525.0</td><td class=\"\"></td><td class=\"\"></td><td class=\"exc-9 exnumber\">58.0</td><td class=\"\"></td><td class=\"exc-9 exnumber\">13.0</td><td class=\"\"></td><td class=\"\"></td><td class=\"exc-9 exnumber\">95.0</td><td class=\"\"></td><td class=\"exc-9 exnumber\">4.0</td><td class=\"\"></td><td class=\"exc-9 exnumber\">1.0</td><td class=\"\"></td><td class=\"\"></td><td class=\"\"></td><td class=\"\"></td><td class=\"\"></td></tr>\n",
       "<tr><td class=\"\"></td><td class=\"exc3 exdate\">2010 Q2 </td><td class=\"exc-9 exdate exnumber\">2032.0</td><td class=\"\"></td><td class=\"exc-9 exnumber\">986.0</td><td class=\"\"></td><td class=\"\"></td><td class=\"exc-9 exnumber\">714.0</td><td class=\"\"></td><td class=\"\"></td><td class=\"exc-9 exnumber\">275.0</td><td class=\"\"></td><td class=\"exc-9 exnumber\">57.0</td><td class=\"\"></td><td class=\"\"></td><td class=\"exc-9 exnumber\">83.0</td><td class=\"\"></td><td class=\"exc-9 exnumber\">14.0</td><td class=\"\"></td><td class=\"exc-9 exnumber\">3.0</td><td class=\"\"></td><td class=\"\"></td><td class=\"\"></td><td class=\"\"></td><td class=\"\"></td></tr>\n",
       "<tr><td class=\"\"></td><td class=\"exc3 exdate\">2010 Q3 </td><td class=\"exc-9 exdate exnumber\">2949.0</td><td class=\"\"></td><td class=\"exc-9 exdate exnumber\">1165.0</td><td class=\"\"></td><td class=\"\"></td><td class=\"exc-9 exnumber\">814.0</td><td class=\"\"></td><td class=\"\"></td><td class=\"exc-9 exnumber\">839.0</td><td class=\"\"></td><td class=\"exc-9 exnumber\">131.0</td><td class=\"\"></td><td class=\"\"></td><td class=\"exc-9 exnumber\">68.0</td><td class=\"\"></td><td class=\"exc-9 exnumber\">28.0</td><td class=\"\"></td><td class=\"exc-9 exnumber\">4.0</td><td class=\"\"></td><td class=\"\"></td><td class=\"\"></td><td class=\"\"></td><td class=\"\"></td></tr>\n",
       "<tr><td class=\"\"></td><td class=\"exc3 exdate\">2010 Q4 </td><td class=\"exc-9 exdate exnumber\">6263.0</td><td class=\"\"></td><td class=\"exc-9 exdate exnumber\">3259.0</td><td class=\"\"></td><td class=\"\"></td><td class=\"exc-9 exdate exnumber\">2467.0</td><td class=\"\"></td><td class=\"\"></td><td class=\"exc-9 exnumber\">388.0</td><td class=\"\"></td><td class=\"exc-9 exnumber\">149.0</td><td class=\"\"></td><td class=\"\"></td><td class=\"exc-9 exnumber\">92.0</td><td class=\"\"></td><td class=\"exc-9 exnumber\">6.0</td><td class=\"\"></td><td class=\"exc-9 exnumber\">2.0</td><td class=\"\"></td><td class=\"\"></td><td class=\"\"></td><td class=\"\"></td><td class=\"\"></td></tr>\n",
       "<tr><td class=\"\"></td><td class=\"exc3 exdate\">2011 Q1 </td><td class=\"exc-9 exdate exnumber\">1500.0</td><td class=\"\"></td><td class=\"exc-9 exnumber\">552.0</td><td class=\"\"></td><td class=\"\"></td><td class=\"exc-9 exnumber\">651.0</td><td class=\"\"></td><td class=\"\"></td><td class=\"exc-9 exnumber\">240.0</td><td class=\"\"></td><td class=\"exc-9 exnumber\">57.0</td><td class=\"\"></td><td class=\"\"></td><td class=\"exc-9 exnumber\">80.0</td><td class=\"\"></td><td class=\"exc-9 exnumber\">16.0</td><td class=\"\"></td><td class=\"exc-9 exnumber\">4.0</td><td class=\"\"></td><td class=\"\"></td><td class=\"\"></td><td class=\"\"></td><td class=\"\"></td></tr>\n",
       "<tr><td class=\"\"></td><td class=\"exc3 exdate\">2011 Q2 </td><td class=\"exc-9 exdate exnumber\">3346.0</td><td class=\"\"></td><td class=\"exc-9 exdate exnumber\">2355.0</td><td class=\"\"></td><td class=\"\"></td><td class=\"exc-9 exnumber\">704.0</td><td class=\"\"></td><td class=\"\"></td><td class=\"exc-9 exnumber\">204.0</td><td class=\"\"></td><td class=\"exc-9 exnumber\">83.0</td><td class=\"\"></td><td class=\"\"></td><td class=\"exc-9 exnumber\">92.0</td><td class=\"\"></td><td class=\"exc-9 exnumber\">6.0</td><td class=\"\"></td><td class=\"exc-9 exnumber\">2.0</td><td class=\"\"></td><td class=\"\"></td><td class=\"\"></td><td class=\"\"></td><td class=\"\"></td></tr>\n",
       "<tr><td class=\"\"></td><td class=\"exc3 exdate\">2011 Q3 </td><td class=\"exc-9 exdate exnumber\">1452.0</td><td class=\"\"></td><td class=\"exc-9 exnumber\">828.0</td><td class=\"\"></td><td class=\"\"></td><td class=\"exc-9 exnumber\">462.0</td><td class=\"\"></td><td class=\"\"></td><td class=\"exc-9 exnumber\">75.0</td><td class=\"\"></td><td class=\"exc-9 exnumber\">87.0</td><td class=\"\"></td><td class=\"\"></td><td class=\"exc-9 exnumber\">89.0</td><td class=\"\"></td><td class=\"exc-9 exnumber\">5.0</td><td class=\"\"></td><td class=\"exc-9 exnumber\">6.0</td><td class=\"\"></td><td class=\"\"></td><td class=\"\"></td><td class=\"\"></td><td class=\"\"></td></tr>\n",
       "<tr><td class=\"\"></td><td class=\"exc3 exdate\">2011 Q4 </td><td class=\"exc-9 exdate exnumber\">1791.0</td><td class=\"\"></td><td class=\"exc-9 exnumber\">697.0</td><td class=\"\"></td><td class=\"\"></td><td class=\"exc-9 exnumber\">850.0</td><td class=\"\"></td><td class=\"\"></td><td class=\"exc-9 exnumber\">200.0</td><td class=\"\"></td><td class=\"exc-9 exnumber\">44.0</td><td class=\"\"></td><td class=\"\"></td><td class=\"exc-9 exnumber\">87.0</td><td class=\"\"></td><td class=\"exc-9 exnumber\">11.0</td><td class=\"\"></td><td class=\"exc-9 exnumber\">2.0</td><td class=\"\"></td><td class=\"\"></td><td class=\"\"></td><td class=\"\"></td><td class=\"\"></td></tr>\n",
       "<tr><td class=\"\"></td><td class=\"exc3 exdate\">2012 Q1 </td><td class=\"exc-9 exdate exnumber\">1070.0</td><td class=\"\"></td><td class=\"exc-9 exnumber\">518.0</td><td class=\"\"></td><td class=\"\"></td><td class=\"exc-9 exnumber\">199.0</td><td class=\"\"></td><td class=\"\"></td><td class=\"exc-9 exnumber\">323.0</td><td class=\"\"></td><td class=\"exc-9 exnumber\">30.0</td><td class=\"\"></td><td class=\"\"></td><td class=\"exc-9 exnumber\">67.0</td><td class=\"\"></td><td class=\"exc-9 exnumber\">30.0</td><td class=\"\"></td><td class=\"exc-9 exnumber\">3.0</td><td class=\"\"></td><td class=\"\"></td><td class=\"\"></td><td class=\"\"></td><td class=\"\"></td></tr>\n",
       "<tr><td class=\"\"></td><td class=\"exc3 exdate\">2012 Q2 </td><td class=\"exc-9 exdate exnumber\">1041.0</td><td class=\"\"></td><td class=\"exc-9 exnumber\">575.0</td><td class=\"\"></td><td class=\"\"></td><td class=\"exc-9 exnumber\">269.0</td><td class=\"\"></td><td class=\"\"></td><td class=\"exc-9 exnumber\">54.0</td><td class=\"\"></td><td class=\"exc-9 exnumber\">143.0</td><td class=\"\"></td><td class=\"\"></td><td class=\"exc-9 exnumber\">81.0</td><td class=\"\"></td><td class=\"exc-9 exnumber\">5.0</td><td class=\"\"></td><td class=\"exc-9 exnumber\">14.0</td><td class=\"\"></td><td class=\"\"></td><td class=\"\"></td><td class=\"\"></td><td class=\"\"></td></tr>\n",
       "<tr><td class=\"\"></td><td class=\"exc3 exdate\">2012 Q3 </td><td class=\"exc-9 exnumber\">610.0</td><td class=\"\"></td><td class=\"exc-9 exnumber\">409.0</td><td class=\"\"></td><td class=\"\"></td><td class=\"exc-9 exnumber\">100.0</td><td class=\"\"></td><td class=\"\"></td><td class=\"exc-9 exnumber\">8.0</td><td class=\"\"></td><td class=\"exc-9 exnumber\">93.0</td><td class=\"\"></td><td class=\"\"></td><td class=\"exc-9 exnumber\">84.0</td><td class=\"\"></td><td class=\"exc-9 exnumber\">1.0</td><td class=\"\"></td><td class=\"exc-9 exnumber\">15.0</td><td class=\"\"></td><td class=\"\"></td><td class=\"\"></td><td class=\"\"></td><td class=\"\"></td></tr>\n",
       "<tr><td class=\"\"></td><td class=\"exc3 exdate\">2012 Q4 </td><td class=\"exc-9 exnumber\">692.0</td><td class=\"\"></td><td class=\"exc-9 exnumber\">435.0</td><td class=\"\"></td><td class=\"\"></td><td class=\"exc-9 exnumber\">221.0</td><td class=\"\"></td><td class=\"\"></td><td class=\"exc-9 exnumber\">34.0</td><td class=\"\"></td><td class=\"exc-9 exnumber\">2.0</td><td class=\"\"></td><td class=\"\"></td><td class=\"exc-9 exnumber\">95.0</td><td class=\"\"></td><td class=\"exc-9 exnumber\">5.0</td><td class=\"\"></td><td class=\"exc-9\">–</td><td class=\"\"></td><td class=\"\"></td><td class=\"\"></td><td class=\"\"></td><td class=\"\"></td></tr>\n",
       "<tr><td class=\"\"></td><td class=\"exc3 exdate\">2013 Q1 </td><td class=\"exc-9 exdate exnumber\">2825.0</td><td class=\"\"></td><td class=\"exc-9 exnumber\">567.0</td><td class=\"\"></td><td class=\"\"></td><td class=\"exc-9 exdate exnumber\">2216.0</td><td class=\"\"></td><td class=\"\"></td><td class=\"exc-9 exnumber\">26.0</td><td class=\"\"></td><td class=\"exc-9 exnumber\">16.0</td><td class=\"\"></td><td class=\"\"></td><td class=\"exc-9 exnumber\">98.0</td><td class=\"\"></td><td class=\"exc-9 exnumber\">1.0</td><td class=\"\"></td><td class=\"exc-9 exnumber\">1.0</td><td class=\"\"></td><td class=\"\"></td><td class=\"\"></td><td class=\"\"></td><td class=\"\"></td></tr>\n",
       "<tr><td class=\"\"></td><td class=\"exc3 exdate\">2013 Q2</td><td class=\"exc-9 exdate exnumber\">2438.0</td><td class=\"\"></td><td class=\"exc-9 exdate exnumber\">1992.0</td><td class=\"\"></td><td class=\"\"></td><td class=\"exc-9 exnumber\">316.0</td><td class=\"\"></td><td class=\"\"></td><td class=\"exc-9 exnumber\">80.0</td><td class=\"\"></td><td class=\"exc-9 exnumber\">50.0</td><td class=\"\"></td><td class=\"\"></td><td class=\"exc-9 exnumber\">95.0</td><td class=\"\"></td><td class=\"exc-9 exnumber\">3.0</td><td class=\"\"></td><td class=\"exc-9 exnumber\">2.0</td><td class=\"\"></td><td class=\"\"></td><td class=\"\"></td><td class=\"\"></td><td class=\"\"></td></tr>\n",
       "<tr><td class=\"\"></td><td class=\"exc3 exdate\">2013 Q3</td><td class=\"exc-9 exdate exnumber\">1166.0</td><td class=\"\"></td><td class=\"exc-9 exnumber\">587.0</td><td class=\"\"></td><td class=\"\"></td><td class=\"exc-9 exnumber\">332.0</td><td class=\"\"></td><td class=\"\"></td><td class=\"exc-9 exnumber\">230.0</td><td class=\"\"></td><td class=\"exc-9 exnumber\">17.0</td><td class=\"\"></td><td class=\"\"></td><td class=\"exc-9 exnumber\">79.0</td><td class=\"\"></td><td class=\"exc-9 exnumber\">20.0</td><td class=\"\"></td><td class=\"exc-9 exnumber\">1.0</td><td class=\"\"></td><td class=\"\"></td><td class=\"\"></td><td class=\"\"></td><td class=\"\"></td></tr>\n",
       "<tr><td class=\"\"></td><td class=\"exc3 exdate\">2013 Q4</td><td class=\"exc-9 exdate exnumber\">1236.0</td><td class=\"\"></td><td class=\"exc-9 exnumber\">544.0</td><td class=\"\"></td><td class=\"\"></td><td class=\"exc-9 exnumber\">611.0</td><td class=\"\"></td><td class=\"\"></td><td class=\"exc-9 exnumber\">17.0</td><td class=\"\"></td><td class=\"exc-9 exnumber\">64.0</td><td class=\"\"></td><td class=\"\"></td><td class=\"exc-9 exnumber\">94.0</td><td class=\"\"></td><td class=\"exc-9 exnumber\">1.0</td><td class=\"\"></td><td class=\"exc-9 exnumber\">5.0</td><td class=\"\"></td><td class=\"\"></td><td class=\"\"></td><td class=\"\"></td><td class=\"\"></td></tr>\n",
       "<tr><td class=\"\"></td><td class=\"exc3 exdate\">2014 Q1</td><td class=\"exc-9 exdate exnumber\">1613.0</td><td class=\"\"></td><td class=\"exc-9 exnumber\">896.0</td><td class=\"\"></td><td class=\"\"></td><td class=\"exc-9 exnumber\">103.0</td><td class=\"\"></td><td class=\"\"></td><td class=\"exc-9 exnumber\">612.0</td><td class=\"\"></td><td class=\"exc-9 exnumber\">2.0</td><td class=\"\"></td><td class=\"\"></td><td class=\"exc-9 exnumber\">62.0</td><td class=\"\"></td><td class=\"exc-9 exnumber\">38.0</td><td class=\"\"></td><td class=\"exc-9\">–</td><td class=\"\"></td><td class=\"\"></td><td class=\"\"></td><td class=\"\"></td><td class=\"\"></td></tr>\n",
       "<tr><td class=\"\"></td><td class=\"exc3 exdate\">2014 Q2</td><td class=\"exc-9 exdate exnumber\">1625.0</td><td class=\"\"></td><td class=\"exc-9 exnumber\">478.0</td><td class=\"\"></td><td class=\"\"></td><td class=\"exc-9 exdate exnumber\">1051.0</td><td class=\"\"></td><td class=\"\"></td><td class=\"exc-9 exnumber\">50.0</td><td class=\"\"></td><td class=\"exc-9 exnumber\">46.0</td><td class=\"\"></td><td class=\"\"></td><td class=\"exc-9 exnumber\">94.0</td><td class=\"\"></td><td class=\"exc-9 exnumber\">3.0</td><td class=\"\"></td><td class=\"exc-9 exnumber\">3.0</td><td class=\"\"></td><td class=\"\"></td><td class=\"\"></td><td class=\"\"></td><td class=\"\"></td></tr>\n",
       "<tr><td class=\"\"></td><td class=\"exc3 exdate\">2014 Q3</td><td class=\"exc-9 exdate exnumber\">3152.0</td><td class=\"\"></td><td class=\"exc-9 exnumber\">476.0</td><td class=\"\"></td><td class=\"\"></td><td class=\"exc-9 exnumber\">656.0</td><td class=\"\"></td><td class=\"\"></td><td class=\"exc-9 exdate exnumber\">2019.0</td><td class=\"\"></td><td class=\"exc-9\">–</td><td class=\"\"></td><td class=\"\"></td><td class=\"exc-9 exnumber\">36.0</td><td class=\"\"></td><td class=\"exc-9 exnumber\">64.0</td><td class=\"\"></td><td class=\"exc-9\">–</td><td class=\"\"></td><td class=\"\"></td><td class=\"\"></td><td class=\"\"></td><td class=\"\"></td></tr>\n",
       "<tr><td class=\"\"></td><td class=\"exc3 exdate\">2014 Q4</td><td class=\"exc-9 exdate exnumber\">1642.0</td><td class=\"\"></td><td class=\"exc-9 exdate exnumber\">1399.0</td><td class=\"\"></td><td class=\"\"></td><td class=\"exc-9 exnumber\">137.0</td><td class=\"\"></td><td class=\"\"></td><td class=\"exc-9 exnumber\">101.0</td><td class=\"\"></td><td class=\"exc-9 exnumber\">5.0</td><td class=\"\"></td><td class=\"\"></td><td class=\"exc-9 exnumber\">94.0</td><td class=\"\"></td><td class=\"exc-9 exnumber\">6.0</td><td class=\"\"></td><td class=\"exc-9\">_</td><td class=\"\"></td><td class=\"\"></td><td class=\"\"></td><td class=\"\"></td><td class=\"\"></td></tr>\n",
       "<tr><td class=\"\"></td><td class=\"exc3 exdate\">2015 Q1</td><td class=\"exc-9 exdate exnumber\">1557.0</td><td class=\"\">†</td><td class=\"exc-9 exnumber\">934.0</td><td class=\"\">†</td><td class=\"\"></td><td class=\"exc-9 exnumber\">259.0</td><td class=\"\">†</td><td class=\"\"></td><td class=\"exc-9 exnumber\">281.0</td><td class=\"\"></td><td class=\"exc-9 exnumber\">84.0</td><td class=\"\">†</td><td class=\"\"></td><td class=\"exc-9 exnumber\">76.0</td><td class=\"\">†</td><td class=\"exc-9 exnumber\">18.0</td><td class=\"\">†</td><td class=\"exc-9 exnumber\">5.0</td><td class=\"\">†</td><td class=\"\"></td><td class=\"\"></td><td class=\"\"></td><td class=\"\"></td></tr>\n",
       "<tr><td class=\"\"></td><td class=\"exc3 exdate\">2015 Q2</td><td class=\"exc-9 exdate exnumber\">2250.0</td><td class=\"\"></td><td class=\"exc-9 exnumber\">646.0</td><td class=\"\"></td><td class=\"\"></td><td class=\"exc-9 exnumber\">753.0</td><td class=\"\"></td><td class=\"\"></td><td class=\"exc-9 exnumber\">850.0</td><td class=\"\"></td><td class=\"exc-9 exnumber\">2.0</td><td class=\"\"></td><td class=\"\"></td><td class=\"exc-9 exnumber\">62.0</td><td class=\"\"></td><td class=\"exc-9 exnumber\">38.0</td><td class=\"\"></td><td class=\"exc-9\">–</td><td class=\"\"></td><td class=\"\"></td><td class=\"\"></td><td class=\"\"></td><td class=\"\"></td></tr>\n",
       "<tr><td class=\"\"></td><td class=\"exc3\">† indicates earliest revision, if any</td><td class=\"\"></td><td class=\"\"></td><td class=\"\"></td><td class=\"\"></td><td class=\"\"></td><td class=\"\"></td><td class=\"\"></td><td class=\"\">1 The deal identification threshold has been increased from Q1 2010 from £0.1m to £1.0m</td><td class=\"\"></td><td class=\"\"></td><td class=\"\"></td><td class=\"\"></td><td class=\"\"></td><td class=\"\"></td><td class=\"\"></td><td class=\"\"></td><td class=\"\"></td><td class=\"\"></td><td class=\"\"></td><td class=\"\"></td><td class=\"\"></td><td class=\"\"></td><td class=\"\"></td></tr>\n",
       "<tr><td class=\"\"></td><td class=\"exc3\">– indicates data is zero or less than £0.5m</td><td class=\"\"></td><td class=\"\"></td><td class=\"\"></td><td class=\"\"></td><td class=\"\"></td><td class=\"\"></td><td class=\"\"></td><td class=\"\">and as a consequence there may be a discontinuity in the number and value of transactions </td><td class=\"\"></td><td class=\"\"></td><td class=\"\"></td><td class=\"\"></td><td class=\"\"></td><td class=\"\"></td><td class=\"\"></td><td class=\"\"></td><td class=\"\"></td><td class=\"\"></td><td class=\"\"></td><td class=\"\"></td><td class=\"\"></td><td class=\"\"></td><td class=\"\"></td></tr>\n",
       "<tr><td class=\"\"></td><td class=\"exc3\">Disclosive data indicated by ..</td><td class=\"\"></td><td class=\"\"></td><td class=\"\"></td><td class=\"\"></td><td class=\"\"></td><td class=\"\"></td><td class=\"\"></td><td class=\"\">reported.</td><td class=\"\"></td><td class=\"\"></td><td class=\"\"></td><td class=\"\"></td><td class=\"\"></td><td class=\"\"></td><td class=\"\"></td><td class=\"\"></td><td class=\"\"></td><td class=\"\"></td><td class=\"\"></td><td class=\"\"></td><td class=\"\"></td><td class=\"\"></td><td class=\"\"></td></tr>\n",
       "<tr><td class=\"\"></td><td class=\"\"></td><td class=\"\"></td><td class=\"\"></td><td class=\"\"></td><td class=\"\"></td><td class=\"\"></td><td class=\"\"></td><td class=\"\"></td><td class=\"\">2 Issued to the vendor company as payment.</td><td class=\"\"></td><td class=\"\"></td><td class=\"\"></td><td class=\"\"></td><td class=\"\"></td><td class=\"\"></td><td class=\"\"></td><td class=\"\"></td><td class=\"\"></td><td class=\"\"></td><td class=\"\"></td><td class=\"\"></td><td class=\"\"></td><td class=\"\"></td><td class=\"\"></td></tr>\n",
       "<tr><td class=\"\"></td><td class=\"\"></td><td class=\"\"></td><td class=\"\"></td><td class=\"\"></td><td class=\"\"></td><td class=\"\"></td><td class=\"\"></td><td class=\"\"></td><td class=\"\"></td><td class=\"\"></td><td class=\"\"></td><td class=\"\"></td><td class=\"\"></td><td class=\"\"></td><td class=\"\"></td><td class=\"\"></td><td class=\"\"></td><td class=\"\"></td><td class=\"\"></td><td class=\"\"></td><td class=\"\"></td><td class=\"\"></td><td class=\"\"></td><td class=\"\"></td></tr>\n",
       "<tr><td class=\"\"></td><td class=\"exc3\">Source: Mergers and Acquisitions Surveys, Office for National Statistics</td><td class=\"\"></td><td class=\"\"></td><td class=\"\"></td><td class=\"\"></td><td class=\"\"></td><td class=\"\"></td><td class=\"\"></td><td class=\"\"></td><td class=\"\"></td><td class=\"\"></td><td class=\"\"></td><td class=\"\"></td><td class=\"\"></td><td class=\"\"></td><td class=\"\"></td><td class=\"\"></td><td class=\"\"></td><td class=\"\"></td><td class=\"\"></td><td class=\"\"></td><td class=\"\"></td><td class=\"\"></td><td class=\"\"></td></tr>\n",
       "<tr><td class=\"\"></td><td class=\"\"></td><td class=\"\"></td><td class=\"\"></td><td class=\"\"></td><td class=\"\"></td><td class=\"\"></td><td class=\"\"></td><td class=\"\"></td><td class=\"\"></td><td class=\"\"></td><td class=\"\"></td><td class=\"\"></td><td class=\"\"></td><td class=\"\"></td><td class=\"\"></td><td class=\"\"></td><td class=\"\"></td><td class=\"\"></td><td class=\"\"></td><td class=\"\"></td><td class=\"\"></td><td class=\"\"></td><td class=\"\"></td><td class=\"\"></td></tr>\n",
       "<tr><td class=\"\"></td><td class=\"\"></td><td class=\"\"></td><td class=\"\"></td><td class=\"\"></td><td class=\"\"></td><td class=\"\"></td><td class=\"\"></td><td class=\"\"></td><td class=\"\"></td><td class=\"\"></td><td class=\"\"></td><td class=\"\"></td><td class=\"\"></td><td class=\"\"></td><td class=\"\"></td><td class=\"\"></td><td class=\"\"></td><td class=\"\"></td><td class=\"\"></td><td class=\"\"></td><td class=\"\"></td><td class=\"\"></td><td class=\"\"></td><td class=\"\"></td></tr>\n",
       "<tr><td class=\"\"></td><td class=\"\"></td><td class=\"\"></td><td class=\"\"></td><td class=\"\"></td><td class=\"\"></td><td class=\"\"></td><td class=\"\"></td><td class=\"\"></td><td class=\"\"></td><td class=\"\"></td><td class=\"\"></td><td class=\"\"> </td><td class=\"\"></td><td class=\"\"></td><td class=\"\"></td><td class=\"\"></td><td class=\"\"></td><td class=\"\"></td><td class=\"\"></td><td class=\"\"></td><td class=\"\"></td><td class=\"\"></td><td class=\"\"></td><td class=\"\"></td></tr>\n",
       "</table>\n"
      ],
      "text/plain": [
       "<IPython.core.display.HTML object>"
      ]
     },
     "metadata": {},
     "output_type": "display_data"
    }
   ],
   "source": [
    "# capability to plot the individual conversion segments (maybe externally into a different window on a second screen?)\n",
    "import databaker.jupybakeutils\n",
    "tab, dimensions, segment = conversionsegments[14]\n",
    "databaker.jupybakeutils.displaytable(tab, databaker.jupybakeutils.dsubsets(dimensions, segment))\n"
   ]
  },
  {
   "cell_type": "code",
   "execution_count": 17,
   "metadata": {
    "collapsed": false
   },
   "outputs": [
    {
     "name": "stdout",
     "output_type": "stream",
     "text": [
      "Table 1 [-2, 'Companies', -6, 'Transaction', 'TIMETYPE']\n",
      "Table 2 [-2, 'Category', 'Investment', -6, 'Category', 'Measure']\n",
      "Table 3 [-2, 'Category', 'Investment', -6, 'Category', 'Measure']\n",
      "Table 4 [-2, 'Category', 'Investment', -6, 'Category', 'Measure']\n",
      "Table 5 [-2, 'Category', 'Investment', -6, 'Category', 'Measure']\n",
      "Table 6 ['Area', -6, -2, 'Mergers']\n",
      "Table 6 ['Area', -6, -2, 'Mergers']\n",
      "Table 6 ['Area', -6, -2, 'Mergers']\n",
      "Table 6 ['Area', -6, -2, 'Mergers']\n",
      "Table 7 ['Area', -6, -2, 'Mergers']\n",
      "Table 7 ['Area', -6, -2, 'Mergers']\n",
      "Table 7 ['Area', -6, -2, 'Mergers']\n",
      "Table 7 ['Area', -6, -2, 'Mergers']\n",
      "Table 8 ['Category', -6, 'TIME - DELETEME', -2]\n",
      "Table 9 ['Expenditure', 'Expenditure 1', 'Expenditure 2', -2, 'ExtraTime']\n"
     ]
    },
    {
     "ename": "NoLookupError",
     "evalue": "No lookup for {<C8 18679.0>}",
     "output_type": "error",
     "traceback": [
      "\u001b[1;31m---------------------------------------------------------------------------\u001b[0m",
      "\u001b[1;31mNoLookupError\u001b[0m                             Traceback (most recent call last)",
      "\u001b[1;32m<ipython-input-17-02b7b23f4866>\u001b[0m in \u001b[0;36m<module>\u001b[1;34m()\u001b[0m\n\u001b[0;32m      7\u001b[0m         \u001b[0mv\u001b[0m \u001b[1;33m=\u001b[0m \u001b[1;33m{\u001b[0m \u001b[0mOBS\u001b[0m\u001b[1;33m:\u001b[0m\u001b[0mob\u001b[0m\u001b[1;33m.\u001b[0m\u001b[0mvalue\u001b[0m \u001b[1;33m}\u001b[0m\u001b[1;33m\u001b[0m\u001b[0m\n\u001b[0;32m      8\u001b[0m         \u001b[1;32mfor\u001b[0m \u001b[0mheader_bag\u001b[0m\u001b[1;33m,\u001b[0m \u001b[0mname\u001b[0m\u001b[1;33m,\u001b[0m \u001b[0mstrict\u001b[0m\u001b[1;33m,\u001b[0m \u001b[0mdirection\u001b[0m \u001b[1;32min\u001b[0m \u001b[0mdimensions\u001b[0m\u001b[1;33m:\u001b[0m\u001b[1;33m\u001b[0m\u001b[0m\n\u001b[1;32m----> 9\u001b[1;33m             \u001b[0mv\u001b[0m\u001b[1;33m[\u001b[0m\u001b[0mname\u001b[0m\u001b[1;33m]\u001b[0m \u001b[1;33m=\u001b[0m \u001b[0mds\u001b[0m\u001b[1;33m.\u001b[0m\u001b[0moverrides\u001b[0m\u001b[1;33m.\u001b[0m\u001b[0mDcelllookup\u001b[0m\u001b[1;33m(\u001b[0m\u001b[0mheader_bag\u001b[0m\u001b[1;33m,\u001b[0m \u001b[0mdirection\u001b[0m\u001b[1;33m,\u001b[0m \u001b[0mstrict\u001b[0m\u001b[1;33m,\u001b[0m \u001b[1;32mNone\u001b[0m\u001b[1;33m,\u001b[0m \u001b[0mob\u001b[0m\u001b[1;33m)\u001b[0m\u001b[1;33m.\u001b[0m\u001b[0mvalue\u001b[0m\u001b[1;33m\u001b[0m\u001b[0m\n\u001b[0m\u001b[0;32m     10\u001b[0m         \u001b[1;32mif\u001b[0m \u001b[0misinstance\u001b[0m\u001b[1;33m(\u001b[0m\u001b[0mv\u001b[0m\u001b[1;33m[\u001b[0m\u001b[0mTIME\u001b[0m\u001b[1;33m]\u001b[0m\u001b[1;33m,\u001b[0m \u001b[0mstr\u001b[0m\u001b[1;33m)\u001b[0m\u001b[1;33m:\u001b[0m\u001b[1;33m\u001b[0m\u001b[0m\n\u001b[0;32m     11\u001b[0m             \u001b[0mv\u001b[0m\u001b[1;33m[\u001b[0m\u001b[0mTIME\u001b[0m\u001b[1;33m]\u001b[0m \u001b[1;33m=\u001b[0m \u001b[0mint\u001b[0m\u001b[1;33m(\u001b[0m\u001b[0mv\u001b[0m\u001b[1;33m[\u001b[0m\u001b[0mTIME\u001b[0m\u001b[1;33m]\u001b[0m\u001b[1;33m[\u001b[0m\u001b[1;33m:\u001b[0m\u001b[1;36m4\u001b[0m\u001b[1;33m]\u001b[0m\u001b[1;33m)\u001b[0m\u001b[1;33m\u001b[0m\u001b[0m\n",
      "\u001b[1;32m/home/goatchurch/sensiblecode/databaker/databaker/overrides.py\u001b[0m in \u001b[0;36mDcelllookup\u001b[1;34m(header_bag, direction, strict, hcells, scell)\u001b[0m\n\u001b[0;32m     65\u001b[0m         \u001b[1;32mraise\u001b[0m \u001b[0mxypath\u001b[0m\u001b[1;33m.\u001b[0m\u001b[0mLookupConfusionError\u001b[0m\u001b[1;33m(\u001b[0m\u001b[1;34m\"{!r} is as good as {!r} for {!r}\"\u001b[0m\u001b[1;33m.\u001b[0m\u001b[0mformat\u001b[0m\u001b[1;33m(\u001b[0m\u001b[0mbest_cell\u001b[0m\u001b[1;33m,\u001b[0m \u001b[0msecond_best_cell\u001b[0m\u001b[1;33m,\u001b[0m \u001b[0mscell\u001b[0m\u001b[1;33m)\u001b[0m\u001b[1;33m)\u001b[0m\u001b[1;33m\u001b[0m\u001b[0m\n\u001b[0;32m     66\u001b[0m     \u001b[1;32mif\u001b[0m \u001b[0mbest_cell\u001b[0m \u001b[1;32mis\u001b[0m \u001b[1;32mNone\u001b[0m\u001b[1;33m:\u001b[0m\u001b[1;33m\u001b[0m\u001b[0m\n\u001b[1;32m---> 67\u001b[1;33m         \u001b[1;32mraise\u001b[0m \u001b[0mxypath\u001b[0m\u001b[1;33m.\u001b[0m\u001b[0mNoLookupError\u001b[0m\u001b[1;33m(\u001b[0m\u001b[1;34m\"No lookup for {!r}\"\u001b[0m\u001b[1;33m.\u001b[0m\u001b[0mformat\u001b[0m\u001b[1;33m(\u001b[0m\u001b[0mscell\u001b[0m\u001b[1;33m)\u001b[0m\u001b[1;33m)\u001b[0m\u001b[1;33m\u001b[0m\u001b[0m\n\u001b[0m\u001b[0;32m     68\u001b[0m     \u001b[1;32mreturn\u001b[0m \u001b[0mbest_cell\u001b[0m\u001b[1;33m\u001b[0m\u001b[0m\n\u001b[0;32m     69\u001b[0m \u001b[1;33m\u001b[0m\u001b[0m\n",
      "\u001b[1;31mNoLookupError\u001b[0m: No lookup for {<C8 18679.0>}"
     ]
    }
   ],
   "source": [
    "\n",
    "# convert the segments and handle the messy cases, eg 2010^2 and missing values\n",
    "allvalues = [ ]\n",
    "for tab, dimensions, segment in conversionsegments:\n",
    "    print(tab.name, [d[1]  for d in dimensions])\n",
    "    for ob in segment:\n",
    "        v = { OBS:ob.value }\n",
    "        for header_bag, name, strict, direction in dimensions:\n",
    "            v[name] = ds.overrides.Dcelllookup(header_bag, direction, strict, None, ob).value\n",
    "        if isinstance(v[TIME], str):\n",
    "            v[TIME] = int(v[TIME][:4])\n",
    "        if isinstance(v[OBS], str):\n",
    "            continue\n",
    "        allvalues.append(v)\n",
    "\n",
    "# In theory we can now call the template export to big CSV, like before at this point\n",
    "# But now we should seek to plot the stats ourselves as a sanity check that the data is good\n",
    "        \n",
    "\n",
    "len(allvalues), allvalues[-1]"
   ]
  },
  {
   "cell_type": "code",
   "execution_count": 26,
   "metadata": {
    "collapsed": false
   },
   "outputs": [
    {
     "data": {
      "text/plain": [
       "({<E4 'Cash'>}, 'Expenditure 1', False, (-1, 0), 1491)"
      ]
     },
     "execution_count": 26,
     "metadata": {},
     "output_type": "execute_result"
    }
   ],
   "source": [
    "tab.name, ob\n",
    "#for header_bag, name, strict, direction in dimensions:\n",
    "#    v[name] = ds.overrides.Dcelllookup(header_bag, direction, strict, None, ob).value\n",
    "header_bag, name, strict, direction, len(allvalues)\n"
   ]
  },
  {
   "cell_type": "code",
   "execution_count": null,
   "metadata": {
    "collapsed": true
   },
   "outputs": [],
   "source": []
  },
  {
   "cell_type": "code",
   "execution_count": 27,
   "metadata": {
    "collapsed": false
   },
   "outputs": [
    {
     "ename": "KeyError",
     "evalue": "'Mergers'",
     "output_type": "error",
     "traceback": [
      "\u001b[1;31m---------------------------------------------------------------------------\u001b[0m",
      "\u001b[1;31mKeyError\u001b[0m                                  Traceback (most recent call last)",
      "\u001b[1;32m<ipython-input-27-7cc09c4e98b2>\u001b[0m in \u001b[0;36m<module>\u001b[1;34m()\u001b[0m\n\u001b[0;32m      4\u001b[0m \u001b[0mplt\u001b[0m\u001b[1;33m.\u001b[0m\u001b[0mfigure\u001b[0m\u001b[1;33m(\u001b[0m\u001b[0mfigsize\u001b[0m\u001b[1;33m=\u001b[0m\u001b[1;33m(\u001b[0m\u001b[1;36m20\u001b[0m\u001b[1;33m,\u001b[0m \u001b[1;36m15\u001b[0m\u001b[1;33m)\u001b[0m\u001b[1;33m)\u001b[0m\u001b[1;33m\u001b[0m\u001b[0m\n\u001b[0;32m      5\u001b[0m \u001b[0mMEASURETYPEset\u001b[0m \u001b[1;33m=\u001b[0m \u001b[0mset\u001b[0m\u001b[1;33m(\u001b[0m\u001b[0mv\u001b[0m\u001b[1;33m[\u001b[0m\u001b[0mMEASURETYPE\u001b[0m\u001b[1;33m]\u001b[0m  \u001b[1;32mfor\u001b[0m \u001b[0mv\u001b[0m \u001b[1;32min\u001b[0m \u001b[0mallvalues\u001b[0m\u001b[1;33m)\u001b[0m\u001b[1;33m\u001b[0m\u001b[0m\n\u001b[1;32m----> 6\u001b[1;33m \u001b[0mmergerset\u001b[0m \u001b[1;33m=\u001b[0m \u001b[0mset\u001b[0m\u001b[1;33m(\u001b[0m\u001b[0mv\u001b[0m\u001b[1;33m[\u001b[0m\u001b[1;34m\"Mergers\"\u001b[0m\u001b[1;33m]\u001b[0m  \u001b[1;32mfor\u001b[0m \u001b[0mv\u001b[0m \u001b[1;32min\u001b[0m \u001b[0mallvalues\u001b[0m\u001b[1;33m)\u001b[0m\u001b[1;33m\u001b[0m\u001b[0m\n\u001b[0m\u001b[0;32m      7\u001b[0m \u001b[1;33m\u001b[0m\u001b[0m\n\u001b[0;32m      8\u001b[0m \u001b[1;32mfor\u001b[0m \u001b[0mi\u001b[0m\u001b[1;33m,\u001b[0m \u001b[0mmerger\u001b[0m \u001b[1;32min\u001b[0m \u001b[0menumerate\u001b[0m\u001b[1;33m(\u001b[0m\u001b[0mmergerset\u001b[0m\u001b[1;33m)\u001b[0m\u001b[1;33m:\u001b[0m\u001b[1;33m\u001b[0m\u001b[0m\n",
      "\u001b[1;32m<ipython-input-27-7cc09c4e98b2>\u001b[0m in \u001b[0;36m<genexpr>\u001b[1;34m(.0)\u001b[0m\n\u001b[0;32m      4\u001b[0m \u001b[0mplt\u001b[0m\u001b[1;33m.\u001b[0m\u001b[0mfigure\u001b[0m\u001b[1;33m(\u001b[0m\u001b[0mfigsize\u001b[0m\u001b[1;33m=\u001b[0m\u001b[1;33m(\u001b[0m\u001b[1;36m20\u001b[0m\u001b[1;33m,\u001b[0m \u001b[1;36m15\u001b[0m\u001b[1;33m)\u001b[0m\u001b[1;33m)\u001b[0m\u001b[1;33m\u001b[0m\u001b[0m\n\u001b[0;32m      5\u001b[0m \u001b[0mMEASURETYPEset\u001b[0m \u001b[1;33m=\u001b[0m \u001b[0mset\u001b[0m\u001b[1;33m(\u001b[0m\u001b[0mv\u001b[0m\u001b[1;33m[\u001b[0m\u001b[0mMEASURETYPE\u001b[0m\u001b[1;33m]\u001b[0m  \u001b[1;32mfor\u001b[0m \u001b[0mv\u001b[0m \u001b[1;32min\u001b[0m \u001b[0mallvalues\u001b[0m\u001b[1;33m)\u001b[0m\u001b[1;33m\u001b[0m\u001b[0m\n\u001b[1;32m----> 6\u001b[1;33m \u001b[0mmergerset\u001b[0m \u001b[1;33m=\u001b[0m \u001b[0mset\u001b[0m\u001b[1;33m(\u001b[0m\u001b[0mv\u001b[0m\u001b[1;33m[\u001b[0m\u001b[1;34m\"Mergers\"\u001b[0m\u001b[1;33m]\u001b[0m  \u001b[1;32mfor\u001b[0m \u001b[0mv\u001b[0m \u001b[1;32min\u001b[0m \u001b[0mallvalues\u001b[0m\u001b[1;33m)\u001b[0m\u001b[1;33m\u001b[0m\u001b[0m\n\u001b[0m\u001b[0;32m      7\u001b[0m \u001b[1;33m\u001b[0m\u001b[0m\n\u001b[0;32m      8\u001b[0m \u001b[1;32mfor\u001b[0m \u001b[0mi\u001b[0m\u001b[1;33m,\u001b[0m \u001b[0mmerger\u001b[0m \u001b[1;32min\u001b[0m \u001b[0menumerate\u001b[0m\u001b[1;33m(\u001b[0m\u001b[0mmergerset\u001b[0m\u001b[1;33m)\u001b[0m\u001b[1;33m:\u001b[0m\u001b[1;33m\u001b[0m\u001b[0m\n",
      "\u001b[1;31mKeyError\u001b[0m: 'Mergers'"
     ]
    },
    {
     "data": {
      "text/plain": [
       "<matplotlib.figure.Figure at 0x7fc389294860>"
      ]
     },
     "metadata": {},
     "output_type": "display_data"
    }
   ],
   "source": [
    "%matplotlib inline\n",
    "\n",
    "import matplotlib.pyplot as plt\n",
    "plt.figure(figsize=(20, 15))\n",
    "MEASURETYPEset = set(v[MEASURETYPE]  for v in allvalues)\n",
    "mergerset = set(v[\"Mergers\"]  for v in allvalues)\n",
    "\n",
    "for i, merger in enumerate(mergerset):\n",
    "    for j, sMEASURETYPE in enumerate(MEASURETYPEset):\n",
    "        values = [v  for v in allvalues  if (v[\"Mergers\"] == merger and v[MEASURETYPE] == sMEASURETYPE) ]\n",
    "        areas = set(v['Area']  for v in values)\n",
    "\n",
    "        ax = plt.gca()\n",
    "        ax.get_xaxis().get_major_formatter().set_useOffset(False)\n",
    "        #ax.get_xaxis().get_major_formatter().set_scientific(False)\n",
    "\n",
    "        plt.subplot(len(mergerset), len(MEASURETYPEset), i*len(MEASURETYPEset)+j+1)\n",
    "        def pairplot(plt, vp, label):\n",
    "            plt.plot([v[0] for v in vp], [v[1] for v in vp], label=label)\n",
    "        for area in areas:\n",
    "            pairplot(plt, [(v[TIME], v[OBS])  for v in values  if v[\"Area\"] == area and v[MEASURETYPE] == sMEASURETYPE], area)\n",
    "        #plt.legend()\n",
    "        #print(merger, sMEASURETYPE, [(v[TIME], v[OBS])  for v in values  if v[\"Area\"] == area and v[MEASURETYPE] == \"Value\"])\n",
    "        #break\n",
    "        plt.title(values[0][\"Mergers\"])\n",
    "        plt.ylabel(sMEASURETYPE)\n",
    "plt.show()\n"
   ]
  },
  {
   "cell_type": "code",
   "execution_count": 16,
   "metadata": {
    "collapsed": false
   },
   "outputs": [
    {
     "data": {
      "text/plain": [
       "<matplotlib.axes._subplots.AxesSubplot at 0x7f20a12e5e80>"
      ]
     },
     "execution_count": 16,
     "metadata": {},
     "output_type": "execute_result"
    },
    {
     "data": {
      "image/png": "[encoded data removed]",
      "text/plain": [
       "<matplotlib.figure.Figure at 0x7f20a8144d30>"
      ]
     },
     "metadata": {},
     "output_type": "display_data"
    }
   ],
   "source": [
    "# alternatively, using pivot table (made by Peter)\n",
    "import pandas as pd\n",
    "df = ( \n",
    "    pd.DataFrame.from_records(allvalues)\n",
    "    .rename(columns={-6:\"MEASURETYPE\", -2:\"TIME\", -9:\"OBS\"})\n",
    "    .assign(TIME=lambda df:df.TIME.astype(int))\n",
    "    #.assign(TIME2=lambda df:df.TIME.astype(int)*2)\n",
    ")\n",
    "\n",
    "pdf = df.pivot_table(\"OBS\", [\"TIME\"], [\"Mergers\", \"MEASURETYPE\", \"Area\"])\n",
    "# [\"Area Analysis of Acquisitions Abroad by UK Companies\"].xs(\"Number\", level=\"MEASURETYPE\", axis=1).plot()\n",
    "acqtypes = pdf.columns.get_level_values(0).unique()\n",
    "valtypes = pdf.columns.get_level_values(1).unique()\n",
    "\n",
    "acqtype = acqtypes[0]\n",
    "valtype = valtypes[0]\n",
    "pdf[acqtype][valtype].plot(legend=False, title=acqtype)\n"
   ]
  },
  {
   "cell_type": "code",
   "execution_count": null,
   "metadata": {
    "collapsed": true
   },
   "outputs": [],
   "source": [
    "pdf[acqtype][valtype].plot"
   ]
  },
  {
   "cell_type": "code",
   "execution_count": null,
   "metadata": {
    "collapsed": true
   },
   "outputs": [],
   "source": []
  }
 ],
 "metadata": {
  "kernelspec": {
   "display_name": "Python 3",
   "language": "python",
   "name": "python3"
  },
  "language_info": {
   "codemirror_mode": {
    "name": "ipython",
    "version": 3
   },
   "file_extension": ".py",
   "mimetype": "text/x-python",
   "name": "python",
   "nbconvert_exporter": "python",
   "pygments_lexer": "ipython3",
   "version": "3.5.2"
  }
 },
 "nbformat": 4,
 "nbformat_minor": 0
}
